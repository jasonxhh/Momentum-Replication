{
 "cells": [
  {
   "cell_type": "markdown",
   "metadata": {},
   "source": [
    "# Load libraries & Import data"
   ]
  },
  {
   "cell_type": "code",
   "execution_count": 1,
   "metadata": {},
   "outputs": [
    {
     "name": "stderr",
     "output_type": "stream",
     "text": [
      "/Users/jasonhuang/anaconda/lib/python3.5/site-packages/statsmodels/compat/pandas.py:56: FutureWarning: The pandas.core.datetools module is deprecated and will be removed in a future version. Please use the pandas.tseries module instead.\n",
      "  from pandas.core import datetools\n"
     ]
    }
   ],
   "source": [
    "import pandas as pd\n",
    "import numpy as np\n",
    "import matplotlib.pyplot as plt\n",
    "import statsmodels.api as sm\n",
    "from datetime import datetime"
   ]
  },
  {
   "cell_type": "code",
   "execution_count": 2,
   "metadata": {
    "collapsed": true
   },
   "outputs": [],
   "source": [
    "df = pd.read_csv(\"crsp.csv\", low_memory = False)"
   ]
  },
  {
   "cell_type": "code",
   "execution_count": 3,
   "metadata": {},
   "outputs": [
    {
     "data": {
      "text/html": [
       "<div>\n",
       "<style scoped>\n",
       "    .dataframe tbody tr th:only-of-type {\n",
       "        vertical-align: middle;\n",
       "    }\n",
       "\n",
       "    .dataframe tbody tr th {\n",
       "        vertical-align: top;\n",
       "    }\n",
       "\n",
       "    .dataframe thead th {\n",
       "        text-align: right;\n",
       "    }\n",
       "</style>\n",
       "<table border=\"1\" class=\"dataframe\">\n",
       "  <thead>\n",
       "    <tr style=\"text-align: right;\">\n",
       "      <th></th>\n",
       "      <th>PERMNO</th>\n",
       "      <th>date</th>\n",
       "      <th>SICCD</th>\n",
       "      <th>PRC</th>\n",
       "      <th>VOL</th>\n",
       "      <th>RET</th>\n",
       "      <th>SHROUT</th>\n",
       "    </tr>\n",
       "  </thead>\n",
       "  <tbody>\n",
       "    <tr>\n",
       "      <th>0</th>\n",
       "      <td>10000</td>\n",
       "      <td>19851231</td>\n",
       "      <td>NaN</td>\n",
       "      <td>NaN</td>\n",
       "      <td>NaN</td>\n",
       "      <td>NaN</td>\n",
       "      <td>NaN</td>\n",
       "    </tr>\n",
       "    <tr>\n",
       "      <th>1</th>\n",
       "      <td>10000</td>\n",
       "      <td>19860131</td>\n",
       "      <td>3990</td>\n",
       "      <td>-4.3750</td>\n",
       "      <td>1771.0</td>\n",
       "      <td>C</td>\n",
       "      <td>3680.0</td>\n",
       "    </tr>\n",
       "    <tr>\n",
       "      <th>2</th>\n",
       "      <td>10000</td>\n",
       "      <td>19860228</td>\n",
       "      <td>3990</td>\n",
       "      <td>-3.2500</td>\n",
       "      <td>828.0</td>\n",
       "      <td>-0.257143</td>\n",
       "      <td>3680.0</td>\n",
       "    </tr>\n",
       "    <tr>\n",
       "      <th>3</th>\n",
       "      <td>10000</td>\n",
       "      <td>19860331</td>\n",
       "      <td>3990</td>\n",
       "      <td>-4.4375</td>\n",
       "      <td>1078.0</td>\n",
       "      <td>0.365385</td>\n",
       "      <td>3680.0</td>\n",
       "    </tr>\n",
       "    <tr>\n",
       "      <th>4</th>\n",
       "      <td>10000</td>\n",
       "      <td>19860430</td>\n",
       "      <td>3990</td>\n",
       "      <td>-4.0000</td>\n",
       "      <td>957.0</td>\n",
       "      <td>-0.098592</td>\n",
       "      <td>3793.0</td>\n",
       "    </tr>\n",
       "  </tbody>\n",
       "</table>\n",
       "</div>"
      ],
      "text/plain": [
       "   PERMNO      date SICCD     PRC     VOL        RET  SHROUT\n",
       "0   10000  19851231   NaN     NaN     NaN        NaN     NaN\n",
       "1   10000  19860131  3990 -4.3750  1771.0          C  3680.0\n",
       "2   10000  19860228  3990 -3.2500   828.0  -0.257143  3680.0\n",
       "3   10000  19860331  3990 -4.4375  1078.0   0.365385  3680.0\n",
       "4   10000  19860430  3990 -4.0000   957.0  -0.098592  3793.0"
      ]
     },
     "execution_count": 3,
     "metadata": {},
     "output_type": "execute_result"
    }
   ],
   "source": [
    "df.head()"
   ]
  },
  {
   "cell_type": "code",
   "execution_count": 4,
   "metadata": {
    "collapsed": true
   },
   "outputs": [],
   "source": [
    "#No NAs\n",
    "df = df.dropna()\n",
    "df = df[df['RET'] != 'C']"
   ]
  },
  {
   "cell_type": "code",
   "execution_count": 6,
   "metadata": {},
   "outputs": [],
   "source": [
    "Date = np.unique(df[\"date\"])"
   ]
  },
  {
   "cell_type": "code",
   "execution_count": 13,
   "metadata": {},
   "outputs": [],
   "source": [
    "Date_recent = Date[Date > 20040101]"
   ]
  },
  {
   "cell_type": "markdown",
   "metadata": {},
   "source": [
    "# Functions"
   ]
  },
  {
   "cell_type": "code",
   "execution_count": 40,
   "metadata": {
    "collapsed": true
   },
   "outputs": [],
   "source": [
    "def average_return(returns):\n",
    "    n = len(returns)\n",
    "    returns = returns + np.ones(n)\n",
    "    avg_return = np.power(np.prod(np.array(returns)),1/n) - 1  \n",
    "    return avg_return"
   ]
  },
  {
   "cell_type": "code",
   "execution_count": 47,
   "metadata": {},
   "outputs": [],
   "source": [
    "def Momentum(data, dates, J, K):\n",
    "    n = len(dates)\n",
    "    momentum_returns = []\n",
    "    # Look back J months\n",
    "    for i in range(J+1,n-K):\n",
    "        temp_data = data[(data[\"date\"] >= dates[i-J-1]) & (data[\"date\"] <= dates[i+K])]\n",
    "        permno = np.unique(temp_data[\"PERMNO\"])\n",
    "        past_returns = []\n",
    "        past_permno = []\n",
    "        for j in permno:\n",
    "            try:\n",
    "                permno_data = temp_data[(temp_data[\"PERMNO\"]) == j & (temp_data[\"date\"] < dates[i])]\n",
    "                past_returns.append(average_return(permno_data[\"RET\"]))\n",
    "                past_permno.append(j)\n",
    "            except:\n",
    "                continue\n",
    "        J_data = pd.DataFrame({'RET':past_returns, 'PERMNO':past_permno})\n",
    "    \n",
    "        # Sort Winner and Loser Deciles\n",
    "        rows = len(J_data['RET'])\n",
    "        decile = int(np.ceil(rows*0.1))\n",
    "        J_data = J_data.sort_values(['RET'],ascending = 0)\n",
    "        J_buy = J_data.head(decile)\n",
    "        J_sell = J_data.tail(decile)\n",
    "        \n",
    "        # Long winners and Short Losers K months forward\n",
    "        winner_returns = []\n",
    "        loser_returns = []\n",
    "        for w in J_buy[\"PERMNO\"]:\n",
    "            winner_data = temp_data[(temp_data[\"PERMNO\"]) == w & (temp_data[\"date\"] > dates[i])]\n",
    "            winner_returns.append(average_return(winner_data[\"RET\"]))\n",
    "        for l in J_sell[\"PERMNO\"]:\n",
    "            loser_data = temp_data[(temp_data[\"PERMNO\"]) == l & (temp_data[\"date\"] > dates[i])]\n",
    "            loser_returns.append(average_return(loser_data[\"RET\"]))\n",
    "        momentum_returns.append(np.sum(winner_returns)/len(J_buy[\"RET\"]) - np.sum(loser_returns)/len(J_sell[\"RET\"]))\n",
    "    \n",
    "    # Get final averaged rolling momentum returns\n",
    "    averaged_momentum_returns = []\n",
    "    m = len(momentum_returns)\n",
    "    for k in range(K, m-K):\n",
    "        temp = []\n",
    "        for r in range(0, K):\n",
    "            temp.append(momentum_returns[k-r])\n",
    "        averaged_momentum_returns.append(np.sum(temp)/K)\n",
    "    return averaged_momentum_returns"
   ]
  }
 ],
 "metadata": {
  "anaconda-cloud": {},
  "kernelspec": {
   "display_name": "Python 3",
   "language": "python",
   "name": "python3"
  },
  "language_info": {
   "codemirror_mode": {
    "name": "ipython",
    "version": 3
   },
   "file_extension": ".py",
   "mimetype": "text/x-python",
   "name": "python",
   "nbconvert_exporter": "python",
   "pygments_lexer": "ipython3",
   "version": "3.7.1"
  }
 },
 "nbformat": 4,
 "nbformat_minor": 1
}
